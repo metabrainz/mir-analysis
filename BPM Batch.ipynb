{
 "cells": [
  {
   "cell_type": "markdown",
   "id": "3f01cfa1",
   "metadata": {},
   "source": [
    "I took a handful of audio files that I had, matched them to spotify (to get the spotify estimated BPM, and then ran them through the same algorithms from the \"BPM analysis\" notebook\n",
    "\n",
    "Perhaps Jazz and Prog Rock aren't the best candidates for a stable BPM estimation, and results show that there is still some variation. We likely need a more broad dataset of test tracks, and some way to compare them with human consensus too."
   ]
  },
  {
   "cell_type": "code",
   "execution_count": 1,
   "id": "15773d66",
   "metadata": {},
   "outputs": [
    {
     "name": "stderr",
     "output_type": "stream",
     "text": [
      "[   INFO   ] MusicExtractorSVM: no classifier models were configured by default\n"
     ]
    }
   ],
   "source": [
    "import os\n",
    "import json\n",
    "import statistics\n",
    "import concurrent.futures\n",
    "\n",
    "import tabulate\n",
    "from IPython.core.display import HTML\n",
    "\n",
    "import vamp\n",
    "import librosa\n",
    "\n",
    "import essentia.standard as es\n",
    "\n",
    "from tempocnn.classifier import TempoClassifier, MeterClassifier\n",
    "from tempocnn.feature import read_features\n",
    "\n",
    "from madmom.features import (RNNBeatProcessor, TempoEstimationProcessor)"
   ]
  },
  {
   "cell_type": "code",
   "execution_count": 2,
   "id": "e20be421",
   "metadata": {},
   "outputs": [],
   "source": [
    "def compute_bpm_vamp(file):\n",
    "    data, rate = librosa.load(file)\n",
    "    beats = vamp.collect(data, rate, \"qm-vamp-plugins:qm-tempotracker\")\n",
    "    vamp_beats = [float(b[\"label\"].replace(\" bpm\", \"\")) for b in beats[\"list\"] if b[\"label\"]]\n",
    "    vamp_bpm = round(statistics.mean(vamp_beats), 2)\n",
    "    return {\"vamp\": vamp_bpm}\n",
    "\n",
    "def compute_bpm_essentia(file):\n",
    "    audio = es.MonoLoader(filename=file)()\n",
    "\n",
    "    # Slow\n",
    "    rhythm_extractor = es.RhythmExtractor2013(method=\"multifeature\")\n",
    "    multifeature_bpm, beats, beats_confidence, _, beats_intervals = rhythm_extractor(audio)\n",
    "\n",
    "    # faster\n",
    "    rhythm_extractor = es.RhythmExtractor2013(method=\"degara\")\n",
    "    degara_bpm, beats, beats_confidence, degara_bpms, beats_intervals = rhythm_extractor(audio)\n",
    "\n",
    "    # PercivalBpmEstimator\n",
    "    percival_bpm = es.PercivalBpmEstimator()(audio)\n",
    "\n",
    "    return {\"ess_mutifeature\": multifeature_bpm, \"ess_degara\": degara_bpm, \"ess_percival\": percival_bpm}\n",
    "\n",
    "def compute_bpm_tempocnn(file):\n",
    "    model = 'fcn' # default\n",
    "    classifier = TempoClassifier(model)\n",
    "\n",
    "    features = read_features(file)\n",
    "    tempo = classifier.estimate_tempo(features, interpolate=False)\n",
    "    return {\"tempocnn\": tempo}\n",
    "\n",
    "def compute_bpm_madmom(file):\n",
    "    proc = RNNBeatProcessor()\n",
    "    tempo = TempoEstimationProcessor(method='comb', min_bpm=40., fps=100,\n",
    "                                               max_bpm=250., act_smooth=0.14,\n",
    "                                               hist_smooth=9, hist_buffer=10.,\n",
    "                                               alpha=0.79, visualize=False)\n",
    "    tempo.visualize = False\n",
    "    beats = proc(file)\n",
    "    tempo = tempo.process_online(beats)\n",
    "    return {\"madmom\": round(tempo.tolist()[0][0])}"
   ]
  },
  {
   "cell_type": "code",
   "execution_count": 3,
   "id": "070cba9c",
   "metadata": {},
   "outputs": [],
   "source": [
    "j = json.load(open(\"metadata_and_spotify.json\"))"
   ]
  },
  {
   "cell_type": "code",
   "execution_count": 9,
   "id": "79e81dd0",
   "metadata": {},
   "outputs": [],
   "source": [
    "def make_table(source, results):\n",
    "    directory = [i for i in j if i['root'] == source][0]\n",
    "    header = [\"file\", \"vamp\", \"ess_mutifeature\", \"ess_degara\", \"ess_percival\", \"tempocnn\", \"madmom\", \"spotify\", \"spotify name\", \"spotify link\"]\n",
    "    data = [header]\n",
    "    for file, spot in zip(directory[\"files\"], directory[\"spotify\"][\"tracks\"]):\n",
    "        res = results[file]\n",
    "        row = [file]\n",
    "        for alg in [\"vamp\", \"ess_mutifeature\", \"ess_degara\", \"ess_percival\", \"tempocnn\", \"madmom\"]:\n",
    "            row.append(int(round(res[alg], 0)))\n",
    "        feat = spot[\"features\"][0]\n",
    "        link = f'''<a href=\"https://open.spotify.com/track/{feat['id']}\">{feat['id']}</a>'''\n",
    "        row.extend([feat[\"tempo\"], spot['name'], link])\n",
    "        data.append(row)\n",
    "    return data"
   ]
  },
  {
   "cell_type": "code",
   "execution_count": 6,
   "id": "def91570",
   "metadata": {},
   "outputs": [
    {
     "data": {
      "text/plain": [
       "dict_keys(['music/Miles Davis - 1959 - Kind of Blue', 'music/Pink Floyd - 1975 - Wish You Were Here', 'music/Pink Floyd - 1973 - The Dark Side of the Moon', 'music/Pink Floyd - 1979 - The Wall', 'music/Queen - 1981 - Greatest Hits'])"
      ]
     },
     "execution_count": 6,
     "metadata": {},
     "output_type": "execute_result"
    }
   ],
   "source": [
    "all_results.keys()"
   ]
  },
  {
   "cell_type": "code",
   "execution_count": 10,
   "id": "75e741f5",
   "metadata": {},
   "outputs": [
    {
     "data": {
      "text/html": [
       "<table>\n",
       "<tbody>\n",
       "<tr><td>file                                                        </td><td>vamp</td><td>ess_mutifeature</td><td>ess_degara</td><td>ess_percival</td><td>tempocnn</td><td>madmom</td><td>spotify</td><td>spotify name                         </td><td>spotify link                                                                              </td></tr>\n",
       "<tr><td>01 - Pink Floyd - Shine On You Crazy Diamond (Part One).flac</td><td>142 </td><td>136            </td><td>136       </td><td>69          </td><td>46      </td><td>136   </td><td>137.937</td><td>Shine On You Crazy Diamond (Pts. 1-5)</td><td><a href=\"https://open.spotify.com/track/6pnwfWyaWjQiHCKTiZLItr\">6pnwfWyaWjQiHCKTiZLItr</a></td></tr>\n",
       "<tr><td>02 - Pink Floyd - Welcome to the Machine.flac               </td><td>136 </td><td>133            </td><td>133       </td><td>67          </td><td>133     </td><td>133   </td><td>133.271</td><td>Welcome to the Machine               </td><td><a href=\"https://open.spotify.com/track/5VWC7v2dC2K0SIIjT9WTLN\">5VWC7v2dC2K0SIIjT9WTLN</a></td></tr>\n",
       "<tr><td>03 - Pink Floyd - Have a Cigar.flac                         </td><td>120 </td><td>123            </td><td>122       </td><td>121         </td><td>122     </td><td>120   </td><td>120.155</td><td>Have a Cigar                         </td><td><a href=\"https://open.spotify.com/track/3CmHvyZQQAGkKkTjTBFWN6\">3CmHvyZQQAGkKkTjTBFWN6</a></td></tr>\n",
       "<tr><td>04 - Pink Floyd - Wish You Were Here.flac                   </td><td>121 </td><td>121            </td><td>120       </td><td>122         </td><td>61      </td><td>120   </td><td>122.861</td><td>Wish You Were Here                   </td><td><a href=\"https://open.spotify.com/track/6mFkJmJqdDVQ1REhVfGgd1\">6mFkJmJqdDVQ1REhVfGgd1</a></td></tr>\n",
       "<tr><td>05 - Pink Floyd - Shine On You Crazy Diamond (Part Two).flac</td><td>138 </td><td>165            </td><td>165       </td><td>88          </td><td>42      </td><td>133   </td><td>135.87 </td><td>Shine On You Crazy Diamond (Pts. 6-9)</td><td><a href=\"https://open.spotify.com/track/21j1PsCiTaO8ZW88UZrh3A\">21j1PsCiTaO8ZW88UZrh3A</a></td></tr>\n",
       "</tbody>\n",
       "</table>"
      ],
      "text/plain": [
       "'<table>\\n<tbody>\\n<tr><td>file                                                        </td><td>vamp</td><td>ess_mutifeature</td><td>ess_degara</td><td>ess_percival</td><td>tempocnn</td><td>madmom</td><td>spotify</td><td>spotify name                         </td><td>spotify link                                                                              </td></tr>\\n<tr><td>01 - Pink Floyd - Shine On You Crazy Diamond (Part One).flac</td><td>142 </td><td>136            </td><td>136       </td><td>69          </td><td>46      </td><td>136   </td><td>137.937</td><td>Shine On You Crazy Diamond (Pts. 1-5)</td><td><a href=\"https://open.spotify.com/track/6pnwfWyaWjQiHCKTiZLItr\">6pnwfWyaWjQiHCKTiZLItr</a></td></tr>\\n<tr><td>02 - Pink Floyd - Welcome to the Machine.flac               </td><td>136 </td><td>133            </td><td>133       </td><td>67          </td><td>133     </td><td>133   </td><td>133.271</td><td>Welcome to the Machine               </td><td><a href=\"https://open.spotify.com/track/5VWC7v2dC2K0SIIjT9WTLN\">5VWC7v2dC2K0SIIjT9WTLN</a></td></tr>\\n<tr><td>03 - Pink Floyd - Have a Cigar.flac                         </td><td>120 </td><td>123            </td><td>122       </td><td>121         </td><td>122     </td><td>120   </td><td>120.155</td><td>Have a Cigar                         </td><td><a href=\"https://open.spotify.com/track/3CmHvyZQQAGkKkTjTBFWN6\">3CmHvyZQQAGkKkTjTBFWN6</a></td></tr>\\n<tr><td>04 - Pink Floyd - Wish You Were Here.flac                   </td><td>121 </td><td>121            </td><td>120       </td><td>122         </td><td>61      </td><td>120   </td><td>122.861</td><td>Wish You Were Here                   </td><td><a href=\"https://open.spotify.com/track/6mFkJmJqdDVQ1REhVfGgd1\">6mFkJmJqdDVQ1REhVfGgd1</a></td></tr>\\n<tr><td>05 - Pink Floyd - Shine On You Crazy Diamond (Part Two).flac</td><td>138 </td><td>165            </td><td>165       </td><td>88          </td><td>42      </td><td>133   </td><td>135.87 </td><td>Shine On You Crazy Diamond (Pts. 6-9)</td><td><a href=\"https://open.spotify.com/track/21j1PsCiTaO8ZW88UZrh3A\">21j1PsCiTaO8ZW88UZrh3A</a></td></tr>\\n</tbody>\\n</table>'"
      ]
     },
     "execution_count": 10,
     "metadata": {},
     "output_type": "execute_result"
    }
   ],
   "source": [
    "k = 'music/Pink Floyd - 1975 - Wish You Were Here'\n",
    "r = all_results[k]\n",
    "data = make_table(k, r)\n",
    "table = tabulate.tabulate(data, tablefmt='unsafehtml')\n",
    "table"
   ]
  },
  {
   "cell_type": "code",
   "execution_count": 11,
   "id": "fa2e0b9d",
   "metadata": {},
   "outputs": [
    {
     "data": {
      "text/html": [
       "<table>\n",
       "<tbody>\n",
       "<tr><td>file                                                       </td><td>vamp</td><td>ess_mutifeature</td><td>ess_degara</td><td>ess_percival</td><td>tempocnn</td><td>madmom</td><td>spotify</td><td>spotify name                    </td><td>spotify link                                                                              </td></tr>\n",
       "<tr><td>01-01 - Pink Floyd - In the Flesh_.flac                    </td><td>144 </td><td>152            </td><td>152       </td><td>77          </td><td>51      </td><td>154   </td><td>152.1  </td><td>In the Flesh?                   </td><td><a href=\"https://open.spotify.com/track/24YmWQgunJGAU8El3ndkyn\">24YmWQgunJGAU8El3ndkyn</a></td></tr>\n",
       "<tr><td>01-02 - Pink Floyd - The Thin Ice.flac                     </td><td>115 </td><td>132            </td><td>132       </td><td>92          </td><td>132     </td><td>66    </td><td>110.272</td><td>The Thin Ice                    </td><td><a href=\"https://open.spotify.com/track/62zuXt6X5B6YQOBNFV2eXG\">62zuXt6X5B6YQOBNFV2eXG</a></td></tr>\n",
       "<tr><td>01-03 - Pink Floyd - Another Brick in the Wall, Part 1.flac</td><td>103 </td><td>99             </td><td>99        </td><td>99          </td><td>100     </td><td>98    </td><td>99.524 </td><td>Another Brick in the Wall, Pt. 1</td><td><a href=\"https://open.spotify.com/track/7K6xMPtAjTuLPNlJMLf5bS\">7K6xMPtAjTuLPNlJMLf5bS</a></td></tr>\n",
       "<tr><td>01-04 - Pink Floyd - The Happiest Days of Our Lives.flac   </td><td>104 </td><td>103            </td><td>103       </td><td>104         </td><td>104     </td><td>103   </td><td>103.994</td><td>The Happiest Days of Our Lives  </td><td><a href=\"https://open.spotify.com/track/2O3l4X1yTua8oMMCtazkyo\">2O3l4X1yTua8oMMCtazkyo</a></td></tr>\n",
       "<tr><td>01-05 - Pink Floyd - Another Brick in the Wall, Part 2.flac</td><td>103 </td><td>103            </td><td>103       </td><td>104         </td><td>104     </td><td>103   </td><td>104.114</td><td>Another Brick in the Wall, Pt. 2</td><td><a href=\"https://open.spotify.com/track/4gMgiXfqyzZLMhsksGmbQV\">4gMgiXfqyzZLMhsksGmbQV</a></td></tr>\n",
       "<tr><td>01-06 - Pink Floyd - Mother.flac                           </td><td>139 </td><td>135            </td><td>135       </td><td>135         </td><td>67      </td><td>67    </td><td>135.22 </td><td>Mother                          </td><td><a href=\"https://open.spotify.com/track/1GEOSS415bZVHNuXWlCT6b\">1GEOSS415bZVHNuXWlCT6b</a></td></tr>\n",
       "<tr><td>01-07 - Pink Floyd - Goodbye Blue Sky.flac                 </td><td>117 </td><td>109            </td><td>109       </td><td>101         </td><td>108     </td><td>109   </td><td>109.154</td><td>Goodbye Blue Sky                </td><td><a href=\"https://open.spotify.com/track/0ESdtt9cjGZUkUbaubSrv2\">0ESdtt9cjGZUkUbaubSrv2</a></td></tr>\n",
       "<tr><td>01-08 - Pink Floyd - Empty Spaces.flac                     </td><td>96  </td><td>95             </td><td>95        </td><td>97          </td><td>95      </td><td>95    </td><td>95.942 </td><td>Empty Spaces                    </td><td><a href=\"https://open.spotify.com/track/5yMyLZu4wPvWcbLFiRhYVM\">5yMyLZu4wPvWcbLFiRhYVM</a></td></tr>\n",
       "<tr><td>01-09 - Pink Floyd - Young Lust.flac                       </td><td>95  </td><td>95             </td><td>95        </td><td>95          </td><td>95      </td><td>95    </td><td>95.488 </td><td>Young Lust                      </td><td><a href=\"https://open.spotify.com/track/3xGJuHvSxFJxxYlHj5BIoT\">3xGJuHvSxFJxxYlHj5BIoT</a></td></tr>\n",
       "<tr><td>01-10 - Pink Floyd - One of My Turns.flac                  </td><td>158 </td><td>172            </td><td>172       </td><td>89          </td><td>87      </td><td>44    </td><td>175.868</td><td>One of My Turns                 </td><td><a href=\"https://open.spotify.com/track/66YHxyGAUGjMBDdrDlWIMD\">66YHxyGAUGjMBDdrDlWIMD</a></td></tr>\n",
       "<tr><td>01-11 - Pink Floyd - Don’t Leave Me Now.flac               </td><td>164 </td><td>123            </td><td>123       </td><td>62          </td><td>41      </td><td>41    </td><td>123.534</td><td>Don't Leave Me Now              </td><td><a href=\"https://open.spotify.com/track/3QEWEv1tvHmVgsT5THpGDn\">3QEWEv1tvHmVgsT5THpGDn</a></td></tr>\n",
       "<tr><td>01-12 - Pink Floyd - Another Brick in the Wall, Part 3.flac</td><td>103 </td><td>102            </td><td>102       </td><td>102         </td><td>102     </td><td>102   </td><td>102.558</td><td>Another Brick in the Wall, Pt. 3</td><td><a href=\"https://open.spotify.com/track/5A7eooPKJHtr0UJmatjH4a\">5A7eooPKJHtr0UJmatjH4a</a></td></tr>\n",
       "<tr><td>01-13 - Pink Floyd - Goodbye Cruel World.flac              </td><td>143 </td><td>102            </td><td>102       </td><td>100         </td><td>51      </td><td>51    </td><td>102.949</td><td>Goodbye Cruel World             </td><td><a href=\"https://open.spotify.com/track/0ZXkKRO789QKBR6ME7pIDF\">0ZXkKRO789QKBR6ME7pIDF</a></td></tr>\n",
       "<tr><td>02-14 - Pink Floyd - Hey You.flac                          </td><td>113 </td><td>112            </td><td>112       </td><td>112         </td><td>112     </td><td>56    </td><td>112.46 </td><td>Hey You                         </td><td><a href=\"https://open.spotify.com/track/7F02x6EKYIQV3VcTaTm7oN\">7F02x6EKYIQV3VcTaTm7oN</a></td></tr>\n",
       "<tr><td>02-15 - Pink Floyd - Is There Anybody Out There_.flac      </td><td>128 </td><td>118            </td><td>118       </td><td>96          </td><td>59      </td><td>59    </td><td>118.682</td><td>Is There Anybody Out There?     </td><td><a href=\"https://open.spotify.com/track/5HAjss9faCAowGY8dM24r6\">5HAjss9faCAowGY8dM24r6</a></td></tr>\n",
       "<tr><td>02-16 - Pink Floyd - Nobody Home.flac                      </td><td>116 </td><td>106            </td><td>105       </td><td>99          </td><td>107     </td><td>53    </td><td>206.542</td><td>Nobody Home                     </td><td><a href=\"https://open.spotify.com/track/2gTnu5RZNVFVnWdjLnyUA5\">2gTnu5RZNVFVnWdjLnyUA5</a></td></tr>\n",
       "<tr><td>02-17 - Pink Floyd - Vera.flac                             </td><td>147 </td><td>100            </td><td>100       </td><td>99          </td><td>101     </td><td>50    </td><td>34.821 </td><td>Vera                            </td><td><a href=\"https://open.spotify.com/track/7FCiDC7ojdm19CJePq6QAe\">7FCiDC7ojdm19CJePq6QAe</a></td></tr>\n",
       "<tr><td>02-18 - Pink Floyd - Bring the Boys Back Home.flac         </td><td>185 </td><td>155            </td><td>77        </td><td>79          </td><td>78      </td><td>78    </td><td>157.963</td><td>Bring the Boys Back Home        </td><td><a href=\"https://open.spotify.com/track/4TUStFzBGQqn0GrkzVWFV4\">4TUStFzBGQqn0GrkzVWFV4</a></td></tr>\n",
       "<tr><td>02-19 - Pink Floyd - Comfortably Numb.flac                 </td><td>127 </td><td>127            </td><td>127       </td><td>127         </td><td>63      </td><td>63    </td><td>127.163</td><td>Comfortably Numb                </td><td><a href=\"https://open.spotify.com/track/5HNCy40Ni5BZJFw1TKzRsC\">5HNCy40Ni5BZJFw1TKzRsC</a></td></tr>\n",
       "<tr><td>02-20 - Pink Floyd - The Show Must Go On.flac              </td><td>126 </td><td>128            </td><td>128       </td><td>128         </td><td>64      </td><td>65    </td><td>129.024</td><td>The Show Must Go On             </td><td><a href=\"https://open.spotify.com/track/077OhUjy58qkjscrXjW696\">077OhUjy58qkjscrXjW696</a></td></tr>\n",
       "<tr><td>02-21 - Pink Floyd - In the Flesh.flac                     </td><td>145 </td><td>151            </td><td>151       </td><td>77          </td><td>51      </td><td>76    </td><td>150.916</td><td>In the Flesh                    </td><td><a href=\"https://open.spotify.com/track/5OFi9CIyD6s1oENyHapK2W\">5OFi9CIyD6s1oENyHapK2W</a></td></tr>\n",
       "<tr><td>02-22 - Pink Floyd - Run Like Hell.flac                    </td><td>126 </td><td>117            </td><td>117       </td><td>117         </td><td>117     </td><td>58    </td><td>116.974</td><td>Run Like Hell                   </td><td><a href=\"https://open.spotify.com/track/0EaLRxrtnq7Mqhdf8q9txr\">0EaLRxrtnq7Mqhdf8q9txr</a></td></tr>\n",
       "<tr><td>02-23 - Pink Floyd - Waiting for the Worms.flac            </td><td>76  </td><td>76             </td><td>76        </td><td>152         </td><td>76      </td><td>76    </td><td>75.866 </td><td>Waiting for the Worms           </td><td><a href=\"https://open.spotify.com/track/2DVkYfl2YuOMlRfC98srEG\">2DVkYfl2YuOMlRfC98srEG</a></td></tr>\n",
       "<tr><td>02-24 - Pink Floyd - Stop.flac                             </td><td>153 </td><td>152            </td><td>151       </td><td>75          </td><td>75      </td><td>76    </td><td>76.113 </td><td>Stop                            </td><td><a href=\"https://open.spotify.com/track/21L1dVOTGhvAKvBXXnTIHj\">21L1dVOTGhvAKvBXXnTIHj</a></td></tr>\n",
       "<tr><td>02-25 - Pink Floyd - The Trial.flac                        </td><td>152 </td><td>152            </td><td>152       </td><td>98          </td><td>76      </td><td>77    </td><td>76.846 </td><td>The Trial                       </td><td><a href=\"https://open.spotify.com/track/1UMXtudajhlocMzXVSngDU\">1UMXtudajhlocMzXVSngDU</a></td></tr>\n",
       "<tr><td>02-26 - Pink Floyd - Outside the Wall.flac                 </td><td>182 </td><td>108            </td><td>108       </td><td>90          </td><td>116     </td><td>45    </td><td>133.137</td><td>Outside the Wall                </td><td><a href=\"https://open.spotify.com/track/1nW0lHGLpE1iQDP5Nvt3x1\">1nW0lHGLpE1iQDP5Nvt3x1</a></td></tr>\n",
       "</tbody>\n",
       "</table>"
      ],
      "text/plain": [
       "'<table>\\n<tbody>\\n<tr><td>file                                                       </td><td>vamp</td><td>ess_mutifeature</td><td>ess_degara</td><td>ess_percival</td><td>tempocnn</td><td>madmom</td><td>spotify</td><td>spotify name                    </td><td>spotify link                                                                              </td></tr>\\n<tr><td>01-01 - Pink Floyd - In the Flesh_.flac                    </td><td>144 </td><td>152            </td><td>152       </td><td>77          </td><td>51      </td><td>154   </td><td>152.1  </td><td>In the Flesh?                   </td><td><a href=\"https://open.spotify.com/track/24YmWQgunJGAU8El3ndkyn\">24YmWQgunJGAU8El3ndkyn</a></td></tr>\\n<tr><td>01-02 - Pink Floyd - The Thin Ice.flac                     </td><td>115 </td><td>132            </td><td>132       </td><td>92          </td><td>132     </td><td>66    </td><td>110.272</td><td>The Thin Ice                    </td><td><a href=\"https://open.spotify.com/track/62zuXt6X5B6YQOBNFV2eXG\">62zuXt6X5B6YQOBNFV2eXG</a></td></tr>\\n<tr><td>01-03 - Pink Floyd - Another Brick in the Wall, Part 1.flac</td><td>103 </td><td>99             </td><td>99        </td><td>99          </td><td>100     </td><td>98    </td><td>99.524 </td><td>Another Brick in the Wall, Pt. 1</td><td><a href=\"https://open.spotify.com/track/7K6xMPtAjTuLPNlJMLf5bS\">7K6xMPtAjTuLPNlJMLf5bS</a></td></tr>\\n<tr><td>01-04 - Pink Floyd - The Happiest Days of Our Lives.flac   </td><td>104 </td><td>103            </td><td>103       </td><td>104         </td><td>104     </td><td>103   </td><td>103.994</td><td>The Happiest Days of Our Lives  </td><td><a href=\"https://open.spotify.com/track/2O3l4X1yTua8oMMCtazkyo\">2O3l4X1yTua8oMMCtazkyo</a></td></tr>\\n<tr><td>01-05 - Pink Floyd - Another Brick in the Wall, Part 2.flac</td><td>103 </td><td>103            </td><td>103       </td><td>104         </td><td>104     </td><td>103   </td><td>104.114</td><td>Another Brick in the Wall, Pt. 2</td><td><a href=\"https://open.spotify.com/track/4gMgiXfqyzZLMhsksGmbQV\">4gMgiXfqyzZLMhsksGmbQV</a></td></tr>\\n<tr><td>01-06 - Pink Floyd - Mother.flac                           </td><td>139 </td><td>135            </td><td>135       </td><td>135         </td><td>67      </td><td>67    </td><td>135.22 </td><td>Mother                          </td><td><a href=\"https://open.spotify.com/track/1GEOSS415bZVHNuXWlCT6b\">1GEOSS415bZVHNuXWlCT6b</a></td></tr>\\n<tr><td>01-07 - Pink Floyd - Goodbye Blue Sky.flac                 </td><td>117 </td><td>109            </td><td>109       </td><td>101         </td><td>108     </td><td>109   </td><td>109.154</td><td>Goodbye Blue Sky                </td><td><a href=\"https://open.spotify.com/track/0ESdtt9cjGZUkUbaubSrv2\">0ESdtt9cjGZUkUbaubSrv2</a></td></tr>\\n<tr><td>01-08 - Pink Floyd - Empty Spaces.flac                     </td><td>96  </td><td>95             </td><td>95        </td><td>97          </td><td>95      </td><td>95    </td><td>95.942 </td><td>Empty Spaces                    </td><td><a href=\"https://open.spotify.com/track/5yMyLZu4wPvWcbLFiRhYVM\">5yMyLZu4wPvWcbLFiRhYVM</a></td></tr>\\n<tr><td>01-09 - Pink Floyd - Young Lust.flac                       </td><td>95  </td><td>95             </td><td>95        </td><td>95          </td><td>95      </td><td>95    </td><td>95.488 </td><td>Young Lust                      </td><td><a href=\"https://open.spotify.com/track/3xGJuHvSxFJxxYlHj5BIoT\">3xGJuHvSxFJxxYlHj5BIoT</a></td></tr>\\n<tr><td>01-10 - Pink Floyd - One of My Turns.flac                  </td><td>158 </td><td>172            </td><td>172       </td><td>89          </td><td>87      </td><td>44    </td><td>175.868</td><td>One of My Turns                 </td><td><a href=\"https://open.spotify.com/track/66YHxyGAUGjMBDdrDlWIMD\">66YHxyGAUGjMBDdrDlWIMD</a></td></tr>\\n<tr><td>01-11 - Pink Floyd - Don’t Leave Me Now.flac               </td><td>164 </td><td>123            </td><td>123       </td><td>62          </td><td>41      </td><td>41    </td><td>123.534</td><td>Don\\'t Leave Me Now              </td><td><a href=\"https://open.spotify.com/track/3QEWEv1tvHmVgsT5THpGDn\">3QEWEv1tvHmVgsT5THpGDn</a></td></tr>\\n<tr><td>01-12 - Pink Floyd - Another Brick in the Wall, Part 3.flac</td><td>103 </td><td>102            </td><td>102       </td><td>102         </td><td>102     </td><td>102   </td><td>102.558</td><td>Another Brick in the Wall, Pt. 3</td><td><a href=\"https://open.spotify.com/track/5A7eooPKJHtr0UJmatjH4a\">5A7eooPKJHtr0UJmatjH4a</a></td></tr>\\n<tr><td>01-13 - Pink Floyd - Goodbye Cruel World.flac              </td><td>143 </td><td>102            </td><td>102       </td><td>100         </td><td>51      </td><td>51    </td><td>102.949</td><td>Goodbye Cruel World             </td><td><a href=\"https://open.spotify.com/track/0ZXkKRO789QKBR6ME7pIDF\">0ZXkKRO789QKBR6ME7pIDF</a></td></tr>\\n<tr><td>02-14 - Pink Floyd - Hey You.flac                          </td><td>113 </td><td>112            </td><td>112       </td><td>112         </td><td>112     </td><td>56    </td><td>112.46 </td><td>Hey You                         </td><td><a href=\"https://open.spotify.com/track/7F02x6EKYIQV3VcTaTm7oN\">7F02x6EKYIQV3VcTaTm7oN</a></td></tr>\\n<tr><td>02-15 - Pink Floyd - Is There Anybody Out There_.flac      </td><td>128 </td><td>118            </td><td>118       </td><td>96          </td><td>59      </td><td>59    </td><td>118.682</td><td>Is There Anybody Out There?     </td><td><a href=\"https://open.spotify.com/track/5HAjss9faCAowGY8dM24r6\">5HAjss9faCAowGY8dM24r6</a></td></tr>\\n<tr><td>02-16 - Pink Floyd - Nobody Home.flac                      </td><td>116 </td><td>106            </td><td>105       </td><td>99          </td><td>107     </td><td>53    </td><td>206.542</td><td>Nobody Home                     </td><td><a href=\"https://open.spotify.com/track/2gTnu5RZNVFVnWdjLnyUA5\">2gTnu5RZNVFVnWdjLnyUA5</a></td></tr>\\n<tr><td>02-17 - Pink Floyd - Vera.flac                             </td><td>147 </td><td>100            </td><td>100       </td><td>99          </td><td>101     </td><td>50    </td><td>34.821 </td><td>Vera                            </td><td><a href=\"https://open.spotify.com/track/7FCiDC7ojdm19CJePq6QAe\">7FCiDC7ojdm19CJePq6QAe</a></td></tr>\\n<tr><td>02-18 - Pink Floyd - Bring the Boys Back Home.flac         </td><td>185 </td><td>155            </td><td>77        </td><td>79          </td><td>78      </td><td>78    </td><td>157.963</td><td>Bring the Boys Back Home        </td><td><a href=\"https://open.spotify.com/track/4TUStFzBGQqn0GrkzVWFV4\">4TUStFzBGQqn0GrkzVWFV4</a></td></tr>\\n<tr><td>02-19 - Pink Floyd - Comfortably Numb.flac                 </td><td>127 </td><td>127            </td><td>127       </td><td>127         </td><td>63      </td><td>63    </td><td>127.163</td><td>Comfortably Numb                </td><td><a href=\"https://open.spotify.com/track/5HNCy40Ni5BZJFw1TKzRsC\">5HNCy40Ni5BZJFw1TKzRsC</a></td></tr>\\n<tr><td>02-20 - Pink Floyd - The Show Must Go On.flac              </td><td>126 </td><td>128            </td><td>128       </td><td>128         </td><td>64      </td><td>65    </td><td>129.024</td><td>The Show Must Go On             </td><td><a href=\"https://open.spotify.com/track/077OhUjy58qkjscrXjW696\">077OhUjy58qkjscrXjW696</a></td></tr>\\n<tr><td>02-21 - Pink Floyd - In the Flesh.flac                     </td><td>145 </td><td>151            </td><td>151       </td><td>77          </td><td>51      </td><td>76    </td><td>150.916</td><td>In the Flesh                    </td><td><a href=\"https://open.spotify.com/track/5OFi9CIyD6s1oENyHapK2W\">5OFi9CIyD6s1oENyHapK2W</a></td></tr>\\n<tr><td>02-22 - Pink Floyd - Run Like Hell.flac                    </td><td>126 </td><td>117            </td><td>117       </td><td>117         </td><td>117     </td><td>58    </td><td>116.974</td><td>Run Like Hell                   </td><td><a href=\"https://open.spotify.com/track/0EaLRxrtnq7Mqhdf8q9txr\">0EaLRxrtnq7Mqhdf8q9txr</a></td></tr>\\n<tr><td>02-23 - Pink Floyd - Waiting for the Worms.flac            </td><td>76  </td><td>76             </td><td>76        </td><td>152         </td><td>76      </td><td>76    </td><td>75.866 </td><td>Waiting for the Worms           </td><td><a href=\"https://open.spotify.com/track/2DVkYfl2YuOMlRfC98srEG\">2DVkYfl2YuOMlRfC98srEG</a></td></tr>\\n<tr><td>02-24 - Pink Floyd - Stop.flac                             </td><td>153 </td><td>152            </td><td>151       </td><td>75          </td><td>75      </td><td>76    </td><td>76.113 </td><td>Stop                            </td><td><a href=\"https://open.spotify.com/track/21L1dVOTGhvAKvBXXnTIHj\">21L1dVOTGhvAKvBXXnTIHj</a></td></tr>\\n<tr><td>02-25 - Pink Floyd - The Trial.flac                        </td><td>152 </td><td>152            </td><td>152       </td><td>98          </td><td>76      </td><td>77    </td><td>76.846 </td><td>The Trial                       </td><td><a href=\"https://open.spotify.com/track/1UMXtudajhlocMzXVSngDU\">1UMXtudajhlocMzXVSngDU</a></td></tr>\\n<tr><td>02-26 - Pink Floyd - Outside the Wall.flac                 </td><td>182 </td><td>108            </td><td>108       </td><td>90          </td><td>116     </td><td>45    </td><td>133.137</td><td>Outside the Wall                </td><td><a href=\"https://open.spotify.com/track/1nW0lHGLpE1iQDP5Nvt3x1\">1nW0lHGLpE1iQDP5Nvt3x1</a></td></tr>\\n</tbody>\\n</table>'"
      ]
     },
     "execution_count": 11,
     "metadata": {},
     "output_type": "execute_result"
    }
   ],
   "source": [
    "k = 'music/Pink Floyd - 1979 - The Wall'\n",
    "r = all_results[k]\n",
    "data = make_table(k, r)\n",
    "table = tabulate.tabulate(data, tablefmt='unsafehtml')\n",
    "table"
   ]
  },
  {
   "cell_type": "code",
   "execution_count": 12,
   "id": "427cb0a5",
   "metadata": {},
   "outputs": [
    {
     "data": {
      "text/html": [
       "<table>\n",
       "<tbody>\n",
       "<tr><td>file                                           </td><td>vamp</td><td>ess_mutifeature</td><td>ess_degara</td><td>ess_percival</td><td>tempocnn</td><td>madmom</td><td>spotify</td><td>spotify name                                         </td><td>spotify link                                                                              </td></tr>\n",
       "<tr><td>01 - Queen - Bohemian Rhapsody.mp3             </td><td>144 </td><td>140            </td><td>140       </td><td>71          </td><td>71      </td><td>71    </td><td>143.353</td><td>Bohemian Rhapsody - Remastered 2011                  </td><td><a href=\"https://open.spotify.com/track/6ljkRMigoNtu0x1mlTEsKc\">6ljkRMigoNtu0x1mlTEsKc</a></td></tr>\n",
       "<tr><td>02 - Queen - Another One Bites the Dust.mp3    </td><td>110 </td><td>110            </td><td>110       </td><td>110         </td><td>110     </td><td>109   </td><td>109.963</td><td>Another One Bites The Dust - Remastered 2011         </td><td><a href=\"https://open.spotify.com/track/6hfNDGNTJBR029RmV63IoO\">6hfNDGNTJBR029RmV63IoO</a></td></tr>\n",
       "<tr><td>03 - Queen - Killer Queen.mp3                  </td><td>117 </td><td>117            </td><td>118       </td><td>117         </td><td>116     </td><td>118   </td><td>117.12 </td><td>Killer Queen - Remastered 2011                       </td><td><a href=\"https://open.spotify.com/track/6Oj0XnWrDEl3KrwZuMQqVj\">6Oj0XnWrDEl3KrwZuMQqVj</a></td></tr>\n",
       "<tr><td>04 - Queen - Fat Bottomed Girls.mp3            </td><td>90  </td><td>89             </td><td>89        </td><td>89          </td><td>87      </td><td>88    </td><td>88.176 </td><td>Fat Bottomed Girls - Single Version / Remastered 2011</td><td><a href=\"https://open.spotify.com/track/52ZQTzXbbWjS4kjOcV3z5b\">52ZQTzXbbWjS4kjOcV3z5b</a></td></tr>\n",
       "<tr><td>05 - Queen - Bicycle Race.mp3                  </td><td>145 </td><td>164            </td><td>165       </td><td>84          </td><td>83      </td><td>83    </td><td>84.364 </td><td>Bicycle Race - Remastered 2011                       </td><td><a href=\"https://open.spotify.com/track/6I55r9WyH1wV1whBRacLFa\">6I55r9WyH1wV1whBRacLFa</a></td></tr>\n",
       "<tr><td>06 - Queen - You’re My Best Friend.mp3         </td><td>120 </td><td>118            </td><td>120       </td><td>120         </td><td>118     </td><td>120   </td><td>118.741</td><td>You're My Best Friend - Remastered 2011              </td><td><a href=\"https://open.spotify.com/track/6CVzXxIHDIDdyzlgfEWSZr\">6CVzXxIHDIDdyzlgfEWSZr</a></td></tr>\n",
       "<tr><td>07 - Queen - Don’t Stop Me Now.mp3             </td><td>163 </td><td>156            </td><td>156       </td><td>78          </td><td>157     </td><td>52    </td><td>156.395</td><td>Don't Stop Me Now - Remastered 2011                  </td><td><a href=\"https://open.spotify.com/track/064C5ivM2FUsY0ghkyt4YK\">064C5ivM2FUsY0ghkyt4YK</a></td></tr>\n",
       "<tr><td>08 - Queen - Save Me.mp3                       </td><td>86  </td><td>82             </td><td>82        </td><td>82          </td><td>82      </td><td>81    </td><td>81.63  </td><td>Save Me - Remastered 2011                            </td><td><a href=\"https://open.spotify.com/track/5V890judRbpVT6X5AEYZc8\">5V890judRbpVT6X5AEYZc8</a></td></tr>\n",
       "<tr><td>09 - Queen - Crazy Little Thing Called Love.mp3</td><td>153 </td><td>153            </td><td>153       </td><td>153         </td><td>76      </td><td>154   </td><td>76.981 </td><td>Crazy Little Thing Called Love - Remastered 2011     </td><td><a href=\"https://open.spotify.com/track/0q8IUBbw0iedjCbzs7vT6U\">0q8IUBbw0iedjCbzs7vT6U</a></td></tr>\n",
       "<tr><td>10 - Queen - Somebody to Love.mp3              </td><td>126 </td><td>73             </td><td>110       </td><td>73          </td><td>73      </td><td>109   </td><td>112.568</td><td>Somebody To Love - Remastered 2011                   </td><td><a href=\"https://open.spotify.com/track/4RJdwSqHapVcW5DaRtTkv0\">4RJdwSqHapVcW5DaRtTkv0</a></td></tr>\n",
       "<tr><td>11 - Queen - Now I’m Here.mp3                  </td><td>133 </td><td>132            </td><td>132       </td><td>133         </td><td>133     </td><td>133   </td><td>132.541</td><td>Now I'm Here - Remastered 2011                       </td><td><a href=\"https://open.spotify.com/track/4NAgFUDP9yL0DascpS0bJb\">4NAgFUDP9yL0DascpS0bJb</a></td></tr>\n",
       "<tr><td>12 - Queen - Good Old‐Fashioned Lover Boy.mp3  </td><td>108 </td><td>96             </td><td>96        </td><td>96          </td><td>97      </td><td>97    </td><td>96.779 </td><td>Good Old-Fashioned Lover Boy - Remastered 2011       </td><td><a href=\"https://open.spotify.com/track/5GQUVjaja81SDqQC6TuFdd\">5GQUVjaja81SDqQC6TuFdd</a></td></tr>\n",
       "<tr><td>13 - Queen - Play the Game.mp3                 </td><td>155 </td><td>155            </td><td>155       </td><td>79          </td><td>78      </td><td>78    </td><td>157.036</td><td>Play The Game - Remastered 2011                      </td><td><a href=\"https://open.spotify.com/track/0p1c1SymyFwxiabvp0EjcV\">0p1c1SymyFwxiabvp0EjcV</a></td></tr>\n",
       "<tr><td>14 - Queen - Flash.mp3                         </td><td>115 </td><td>108            </td><td>109       </td><td>102         </td><td>111     </td><td>109   </td><td>109.09 </td><td>Flash - Remastered 2011                              </td><td><a href=\"https://open.spotify.com/track/4Xxra8s5kUaLy7CMRkw7mn\">4Xxra8s5kUaLy7CMRkw7mn</a></td></tr>\n",
       "<tr><td>15 - Queen - Seven Seas of Rhye.mp3            </td><td>125 </td><td>126            </td><td>125       </td><td>126         </td><td>125     </td><td>125   </td><td>125.805</td><td>Seven Seas Of Rhye - Remastered 2011                 </td><td><a href=\"https://open.spotify.com/track/4ZZYA2STqMdoMqtFHQCGJf\">4ZZYA2STqMdoMqtFHQCGJf</a></td></tr>\n",
       "<tr><td>16 - Queen - We Will Rock You.mp3              </td><td>81  </td><td>82             </td><td>82        </td><td>81          </td><td>82      </td><td>81    </td><td>81.083 </td><td>We Will Rock You - Remastered 2011                   </td><td><a href=\"https://open.spotify.com/track/2wZtRh3I3JYPODpL4c07ZC\">2wZtRh3I3JYPODpL4c07ZC</a></td></tr>\n",
       "<tr><td>17 - Queen - We Are the Champions.mp3          </td><td>120 </td><td>95             </td><td>95        </td><td>97          </td><td>63      </td><td>95    </td><td>94.636 </td><td>We Are The Champions - Remastered 2011               </td><td><a href=\"https://open.spotify.com/track/5LRFuSfiF5xGbUfeHhWKAP\">5LRFuSfiF5xGbUfeHhWKAP</a></td></tr>\n",
       "</tbody>\n",
       "</table>"
      ],
      "text/plain": [
       "'<table>\\n<tbody>\\n<tr><td>file                                           </td><td>vamp</td><td>ess_mutifeature</td><td>ess_degara</td><td>ess_percival</td><td>tempocnn</td><td>madmom</td><td>spotify</td><td>spotify name                                         </td><td>spotify link                                                                              </td></tr>\\n<tr><td>01 - Queen - Bohemian Rhapsody.mp3             </td><td>144 </td><td>140            </td><td>140       </td><td>71          </td><td>71      </td><td>71    </td><td>143.353</td><td>Bohemian Rhapsody - Remastered 2011                  </td><td><a href=\"https://open.spotify.com/track/6ljkRMigoNtu0x1mlTEsKc\">6ljkRMigoNtu0x1mlTEsKc</a></td></tr>\\n<tr><td>02 - Queen - Another One Bites the Dust.mp3    </td><td>110 </td><td>110            </td><td>110       </td><td>110         </td><td>110     </td><td>109   </td><td>109.963</td><td>Another One Bites The Dust - Remastered 2011         </td><td><a href=\"https://open.spotify.com/track/6hfNDGNTJBR029RmV63IoO\">6hfNDGNTJBR029RmV63IoO</a></td></tr>\\n<tr><td>03 - Queen - Killer Queen.mp3                  </td><td>117 </td><td>117            </td><td>118       </td><td>117         </td><td>116     </td><td>118   </td><td>117.12 </td><td>Killer Queen - Remastered 2011                       </td><td><a href=\"https://open.spotify.com/track/6Oj0XnWrDEl3KrwZuMQqVj\">6Oj0XnWrDEl3KrwZuMQqVj</a></td></tr>\\n<tr><td>04 - Queen - Fat Bottomed Girls.mp3            </td><td>90  </td><td>89             </td><td>89        </td><td>89          </td><td>87      </td><td>88    </td><td>88.176 </td><td>Fat Bottomed Girls - Single Version / Remastered 2011</td><td><a href=\"https://open.spotify.com/track/52ZQTzXbbWjS4kjOcV3z5b\">52ZQTzXbbWjS4kjOcV3z5b</a></td></tr>\\n<tr><td>05 - Queen - Bicycle Race.mp3                  </td><td>145 </td><td>164            </td><td>165       </td><td>84          </td><td>83      </td><td>83    </td><td>84.364 </td><td>Bicycle Race - Remastered 2011                       </td><td><a href=\"https://open.spotify.com/track/6I55r9WyH1wV1whBRacLFa\">6I55r9WyH1wV1whBRacLFa</a></td></tr>\\n<tr><td>06 - Queen - You’re My Best Friend.mp3         </td><td>120 </td><td>118            </td><td>120       </td><td>120         </td><td>118     </td><td>120   </td><td>118.741</td><td>You\\'re My Best Friend - Remastered 2011              </td><td><a href=\"https://open.spotify.com/track/6CVzXxIHDIDdyzlgfEWSZr\">6CVzXxIHDIDdyzlgfEWSZr</a></td></tr>\\n<tr><td>07 - Queen - Don’t Stop Me Now.mp3             </td><td>163 </td><td>156            </td><td>156       </td><td>78          </td><td>157     </td><td>52    </td><td>156.395</td><td>Don\\'t Stop Me Now - Remastered 2011                  </td><td><a href=\"https://open.spotify.com/track/064C5ivM2FUsY0ghkyt4YK\">064C5ivM2FUsY0ghkyt4YK</a></td></tr>\\n<tr><td>08 - Queen - Save Me.mp3                       </td><td>86  </td><td>82             </td><td>82        </td><td>82          </td><td>82      </td><td>81    </td><td>81.63  </td><td>Save Me - Remastered 2011                            </td><td><a href=\"https://open.spotify.com/track/5V890judRbpVT6X5AEYZc8\">5V890judRbpVT6X5AEYZc8</a></td></tr>\\n<tr><td>09 - Queen - Crazy Little Thing Called Love.mp3</td><td>153 </td><td>153            </td><td>153       </td><td>153         </td><td>76      </td><td>154   </td><td>76.981 </td><td>Crazy Little Thing Called Love - Remastered 2011     </td><td><a href=\"https://open.spotify.com/track/0q8IUBbw0iedjCbzs7vT6U\">0q8IUBbw0iedjCbzs7vT6U</a></td></tr>\\n<tr><td>10 - Queen - Somebody to Love.mp3              </td><td>126 </td><td>73             </td><td>110       </td><td>73          </td><td>73      </td><td>109   </td><td>112.568</td><td>Somebody To Love - Remastered 2011                   </td><td><a href=\"https://open.spotify.com/track/4RJdwSqHapVcW5DaRtTkv0\">4RJdwSqHapVcW5DaRtTkv0</a></td></tr>\\n<tr><td>11 - Queen - Now I’m Here.mp3                  </td><td>133 </td><td>132            </td><td>132       </td><td>133         </td><td>133     </td><td>133   </td><td>132.541</td><td>Now I\\'m Here - Remastered 2011                       </td><td><a href=\"https://open.spotify.com/track/4NAgFUDP9yL0DascpS0bJb\">4NAgFUDP9yL0DascpS0bJb</a></td></tr>\\n<tr><td>12 - Queen - Good Old‐Fashioned Lover Boy.mp3  </td><td>108 </td><td>96             </td><td>96        </td><td>96          </td><td>97      </td><td>97    </td><td>96.779 </td><td>Good Old-Fashioned Lover Boy - Remastered 2011       </td><td><a href=\"https://open.spotify.com/track/5GQUVjaja81SDqQC6TuFdd\">5GQUVjaja81SDqQC6TuFdd</a></td></tr>\\n<tr><td>13 - Queen - Play the Game.mp3                 </td><td>155 </td><td>155            </td><td>155       </td><td>79          </td><td>78      </td><td>78    </td><td>157.036</td><td>Play The Game - Remastered 2011                      </td><td><a href=\"https://open.spotify.com/track/0p1c1SymyFwxiabvp0EjcV\">0p1c1SymyFwxiabvp0EjcV</a></td></tr>\\n<tr><td>14 - Queen - Flash.mp3                         </td><td>115 </td><td>108            </td><td>109       </td><td>102         </td><td>111     </td><td>109   </td><td>109.09 </td><td>Flash - Remastered 2011                              </td><td><a href=\"https://open.spotify.com/track/4Xxra8s5kUaLy7CMRkw7mn\">4Xxra8s5kUaLy7CMRkw7mn</a></td></tr>\\n<tr><td>15 - Queen - Seven Seas of Rhye.mp3            </td><td>125 </td><td>126            </td><td>125       </td><td>126         </td><td>125     </td><td>125   </td><td>125.805</td><td>Seven Seas Of Rhye - Remastered 2011                 </td><td><a href=\"https://open.spotify.com/track/4ZZYA2STqMdoMqtFHQCGJf\">4ZZYA2STqMdoMqtFHQCGJf</a></td></tr>\\n<tr><td>16 - Queen - We Will Rock You.mp3              </td><td>81  </td><td>82             </td><td>82        </td><td>81          </td><td>82      </td><td>81    </td><td>81.083 </td><td>We Will Rock You - Remastered 2011                   </td><td><a href=\"https://open.spotify.com/track/2wZtRh3I3JYPODpL4c07ZC\">2wZtRh3I3JYPODpL4c07ZC</a></td></tr>\\n<tr><td>17 - Queen - We Are the Champions.mp3          </td><td>120 </td><td>95             </td><td>95        </td><td>97          </td><td>63      </td><td>95    </td><td>94.636 </td><td>We Are The Champions - Remastered 2011               </td><td><a href=\"https://open.spotify.com/track/5LRFuSfiF5xGbUfeHhWKAP\">5LRFuSfiF5xGbUfeHhWKAP</a></td></tr>\\n</tbody>\\n</table>'"
      ]
     },
     "execution_count": 12,
     "metadata": {},
     "output_type": "execute_result"
    }
   ],
   "source": [
    "k = 'music/Queen - 1981 - Greatest Hits'\n",
    "r = all_results[k]\n",
    "data = make_table(k, r)\n",
    "table = tabulate.tabulate(data, tablefmt='unsafehtml')\n",
    "table"
   ]
  },
  {
   "cell_type": "code",
   "execution_count": 13,
   "id": "e723e122",
   "metadata": {},
   "outputs": [
    {
     "data": {
      "text/html": [
       "<table>\n",
       "<tbody>\n",
       "<tr><td>file                                      </td><td>vamp</td><td>ess_mutifeature</td><td>ess_degara</td><td>ess_percival</td><td>tempocnn</td><td>madmom</td><td>spotify</td><td>spotify name                                                                               </td><td>spotify link                                                                              </td></tr>\n",
       "<tr><td>01 - Miles Davis - So What.flac           </td><td>138 </td><td>137            </td><td>137       </td><td>137         </td><td>135     </td><td>68    </td><td>136.526</td><td>So What (feat. John Coltrane, Cannonball Adderley & Bill Evans)                            </td><td><a href=\"https://open.spotify.com/track/7q3kkfAVpmcZ8g6JUThi3o\">7q3kkfAVpmcZ8g6JUThi3o</a></td></tr>\n",
       "<tr><td>02 - Miles Davis - Freddie Freeloader.flac</td><td>130 </td><td>129            </td><td>129       </td><td>128         </td><td>130     </td><td>128   </td><td>128.453</td><td>Freddie Freeloader (feat. John Coltrane, Cannonball Adderley, Wynton Kelly & Paul Chambers)</td><td><a href=\"https://open.spotify.com/track/3NvYPUNu6nwQgN31UnoDbn\">3NvYPUNu6nwQgN31UnoDbn</a></td></tr>\n",
       "<tr><td>03 - Miles Davis - Blue in Green.flac     </td><td>136 </td><td>112            </td><td>113       </td><td>97          </td><td>57      </td><td>57    </td><td>170.272</td><td>Blue in Green (feat. John Coltrane & Bill Evans)                                           </td><td><a href=\"https://open.spotify.com/track/6bP4GyrKNbcKPMDqWJqpxI\">6bP4GyrKNbcKPMDqWJqpxI</a></td></tr>\n",
       "<tr><td>04 - Miles Davis - All Blues.flac         </td><td>139 </td><td>139            </td><td>139       </td><td>140         </td><td>139     </td><td>140   </td><td>140.033</td><td>All Blues (feat. John Coltrane, Cannonball Adderley & Bill Evans)                          </td><td><a href=\"https://open.spotify.com/track/0TUa7gBg7LJH6B8dkNVioU\">0TUa7gBg7LJH6B8dkNVioU</a></td></tr>\n",
       "<tr><td>05 - Miles Davis - Flamenco Sketches.flac </td><td>145 </td><td>117            </td><td>117       </td><td>118         </td><td>116     </td><td>59    </td><td>175.137</td><td>Flamenco Sketches (feat. John Coltrane, Cannonball Adderley & Bill Evans)                  </td><td><a href=\"https://open.spotify.com/track/3R3fcrKaeBr3U6s9R2belr\">3R3fcrKaeBr3U6s9R2belr</a></td></tr>\n",
       "</tbody>\n",
       "</table>"
      ],
      "text/plain": [
       "'<table>\\n<tbody>\\n<tr><td>file                                      </td><td>vamp</td><td>ess_mutifeature</td><td>ess_degara</td><td>ess_percival</td><td>tempocnn</td><td>madmom</td><td>spotify</td><td>spotify name                                                                               </td><td>spotify link                                                                              </td></tr>\\n<tr><td>01 - Miles Davis - So What.flac           </td><td>138 </td><td>137            </td><td>137       </td><td>137         </td><td>135     </td><td>68    </td><td>136.526</td><td>So What (feat. John Coltrane, Cannonball Adderley & Bill Evans)                            </td><td><a href=\"https://open.spotify.com/track/7q3kkfAVpmcZ8g6JUThi3o\">7q3kkfAVpmcZ8g6JUThi3o</a></td></tr>\\n<tr><td>02 - Miles Davis - Freddie Freeloader.flac</td><td>130 </td><td>129            </td><td>129       </td><td>128         </td><td>130     </td><td>128   </td><td>128.453</td><td>Freddie Freeloader (feat. John Coltrane, Cannonball Adderley, Wynton Kelly & Paul Chambers)</td><td><a href=\"https://open.spotify.com/track/3NvYPUNu6nwQgN31UnoDbn\">3NvYPUNu6nwQgN31UnoDbn</a></td></tr>\\n<tr><td>03 - Miles Davis - Blue in Green.flac     </td><td>136 </td><td>112            </td><td>113       </td><td>97          </td><td>57      </td><td>57    </td><td>170.272</td><td>Blue in Green (feat. John Coltrane & Bill Evans)                                           </td><td><a href=\"https://open.spotify.com/track/6bP4GyrKNbcKPMDqWJqpxI\">6bP4GyrKNbcKPMDqWJqpxI</a></td></tr>\\n<tr><td>04 - Miles Davis - All Blues.flac         </td><td>139 </td><td>139            </td><td>139       </td><td>140         </td><td>139     </td><td>140   </td><td>140.033</td><td>All Blues (feat. John Coltrane, Cannonball Adderley & Bill Evans)                          </td><td><a href=\"https://open.spotify.com/track/0TUa7gBg7LJH6B8dkNVioU\">0TUa7gBg7LJH6B8dkNVioU</a></td></tr>\\n<tr><td>05 - Miles Davis - Flamenco Sketches.flac </td><td>145 </td><td>117            </td><td>117       </td><td>118         </td><td>116     </td><td>59    </td><td>175.137</td><td>Flamenco Sketches (feat. John Coltrane, Cannonball Adderley & Bill Evans)                  </td><td><a href=\"https://open.spotify.com/track/3R3fcrKaeBr3U6s9R2belr\">3R3fcrKaeBr3U6s9R2belr</a></td></tr>\\n</tbody>\\n</table>'"
      ]
     },
     "execution_count": 13,
     "metadata": {},
     "output_type": "execute_result"
    }
   ],
   "source": [
    "k = 'music/Miles Davis - 1959 - Kind of Blue'\n",
    "r = all_results[k]\n",
    "data = make_table(k, r)\n",
    "table = tabulate.tabulate(data, tablefmt='unsafehtml')\n",
    "table"
   ]
  },
  {
   "cell_type": "code",
   "execution_count": null,
   "id": "f57d2428",
   "metadata": {},
   "outputs": [],
   "source": []
  }
 ],
 "metadata": {
  "kernelspec": {
   "display_name": "Python 3 (ipykernel)",
   "language": "python",
   "name": "python3"
  },
  "language_info": {
   "codemirror_mode": {
    "name": "ipython",
    "version": 3
   },
   "file_extension": ".py",
   "mimetype": "text/x-python",
   "name": "python",
   "nbconvert_exporter": "python",
   "pygments_lexer": "ipython3",
   "version": "3.7.12"
  }
 },
 "nbformat": 4,
 "nbformat_minor": 5
}
